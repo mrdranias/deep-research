{
 "cells": [
  {
   "cell_type": "code",
   "execution_count": null,
   "id": "cd8a3b26-5377-4a6a-be71-8c2b372a48b8",
   "metadata": {},
   "outputs": [],
   "source": []
  },
  {
   "cell_type": "markdown",
   "id": "058edbd2-17b2-462f-a106-b89b59845285",
   "metadata": {
    "editable": false,
    "slideshow": {
     "slide_type": "slide"
    },
    "tags": []
   },
   "source": [
    "![Slide 1](./images/Slide2.JPG)\n"
   ]
  },
  {
   "cell_type": "markdown",
   "id": "bc40eb8c-5d3d-4309-bbf9-1b73ab0f9f65",
   "metadata": {
    "editable": true,
    "slideshow": {
     "slide_type": "slide"
    },
    "tags": []
   },
   "source": [
    "![Slide 2](./images/Slide3.JPG)\n"
   ]
  },
  {
   "cell_type": "markdown",
   "id": "d843946a-c04f-43b2-ab80-f21320ddbb1d",
   "metadata": {
    "editable": true,
    "slideshow": {
     "slide_type": "slide"
    },
    "tags": []
   },
   "source": [
    "![Slide 3](./images/Slide4.JPG)\n"
   ]
  },
  {
   "cell_type": "markdown",
   "id": "505d26b8-dacd-4f5e-88fd-f1d689b959c5",
   "metadata": {
    "editable": true,
    "slideshow": {
     "slide_type": "slide"
    },
    "tags": []
   },
   "source": [
    "![Slide 4](./images/Slide5.JPG)\n"
   ]
  },
  {
   "cell_type": "markdown",
   "id": "f616d941-9f96-41bc-bdf4-027a9c7c334a",
   "metadata": {
    "editable": true,
    "slideshow": {
     "slide_type": "slide"
    },
    "tags": []
   },
   "source": [
    "![Slide 5](./images/Slide6.JPG)\n"
   ]
  },
  {
   "cell_type": "markdown",
   "id": "1f2b30bf-0f55-479b-aceb-4608ebc751ee",
   "metadata": {
    "editable": true,
    "slideshow": {
     "slide_type": "slide"
    },
    "tags": []
   },
   "source": [
    "![Slide 6](./images/Slide7.JPG)\n"
   ]
  },
  {
   "cell_type": "code",
   "execution_count": 1,
   "id": "9d949fe5-538d-46d5-b22f-c9f10c61a154",
   "metadata": {
    "editable": false,
    "slideshow": {
     "slide_type": "skip"
    },
    "tags": []
   },
   "outputs": [],
   "source": [
    "#!/usr/bin/env python3\n",
    "\n",
    "def ask_multiline_question(query: str) -> str:\n",
    "    \"\"\"\n",
    "    Ask a question that can span multiple lines.\n",
    "    The user enters lines until a blank line is entered.\n",
    "    \"\"\"\n",
    "    print(query)\n",
    "    lines = []\n",
    "    while True:\n",
    "        line = input()\n",
    "        if not line.strip():  # Stop reading on an empty line\n",
    "            break\n",
    "        lines.append(line)\n",
    "    return \"\\n\".join(lines).strip()\n",
    "\n",
    "\n",
    "def ask_question(query: str) -> str:\n",
    "    \"\"\"Ask a single-line question and return the answer.\"\"\"\n",
    "    return input(query)\n",
    "\n",
    "\n",
    "def run():\n",
    "    # 1. SET UP REPORT TOPIC\n",
    "    # Get initial multi-line query from the user\n",
    "    initial_query = ask_multiline_question(\n",
    "        \"What would you like to research? (Enter blank line to finish)\"\n",
    "    )\n",
    "\n",
    "    # Get breadth parameter (with default of 4 if input is empty or invalid)\n",
    "    breadth_input = ask_question(\"Enter research breadth (recommended 2-10, default 4): \")\n",
    "    try:\n",
    "        breadth = int(breadth_input)\n",
    "    except ValueError:\n",
    "        breadth = 4\n",
    "\n",
    "    # Get depth parameter (with default of 2 if input is empty or invalid)\n",
    "    depth_input = ask_question(\"Enter research depth (recommended 1-5, default 2): \")\n",
    "    try:\n",
    "        depth = int(depth_input)\n",
    "    except ValueError:\n",
    "        depth = 2\n",
    "\n",
    "    print(\"Creating research plan...\")\n",
    "    print(initial_query)\n",
    "    print(f\"breadth={breadth}, depth={depth}\")\n"
   ]
  },
  {
   "cell_type": "code",
   "execution_count": 2,
   "id": "9a9908fd-c544-4b60-bdd5-e3cc627a4389",
   "metadata": {
    "editable": true,
    "slideshow": {
     "slide_type": "slide"
    },
    "tags": []
   },
   "outputs": [
    {
     "name": "stdout",
     "output_type": "stream",
     "text": [
      "What would you like to research? (Enter blank line to finish)\n"
     ]
    },
    {
     "name": "stdin",
     "output_type": "stream",
     "text": [
      " How can I make fried bee hoon\n",
      " \n",
      "Enter research breadth (recommended 2-10, default 4):  2\n",
      "Enter research depth (recommended 1-5, default 2):  2\n"
     ]
    },
    {
     "name": "stdout",
     "output_type": "stream",
     "text": [
      "Creating research plan...\n",
      "How can I make fried bee hoon\n",
      "breadth=2, depth=2\n"
     ]
    }
   ],
   "source": [
    "run()"
   ]
  },
  {
   "cell_type": "code",
   "execution_count": 14,
   "id": "c07dab7e-015f-4253-8325-f9e89e643cfd",
   "metadata": {
    "editable": true,
    "scrolled": true,
    "slideshow": {
     "slide_type": ""
    },
    "tags": []
   },
   "outputs": [],
   "source": [
    "import json\n",
    "import asyncio\n",
    "import os\n",
    "from datetime import datetime\n",
    "from pydantic import BaseModel, StrictStr, ValidationError\n",
    "from typing import List\n",
    "from dotenv import load_dotenv\n",
    "\n",
    "load_dotenv(dotenv_path=\"./.env.local\")\n",
    "\n",
    "\n",
    "class FollowUpQuestions(BaseModel):\n",
    "    questions: List[StrictStr]\n",
    "\n",
    "\n",
    "def system_prompt():\n",
    "    now = datetime.utcnow().isoformat()\n",
    "    return (\n",
    "        f\"You are an expert researcher. Today is {now}. Follow these instructions when responding:\\n\"\n",
    "        f\"- You may be asked to research subjects that are after your knowledge cutoff, assume the user is right when presented with news.\\n\"\n",
    "        f\"- The user is a highly experienced analyst, no need to simplify it, be as detailed as possible and make sure your response is correct.\\n\"\n",
    "        f\"- Be highly organized.\\n\"\n",
    "        f\"- Suggest solutions that I didn't think about.\\n\"\n",
    "        f\"- Be proactive and anticipate my needs.\\n\"\n",
    "        f\"- Treat me as an expert in all subject matter.\\n\"\n",
    "        f\"- Mistakes erode my trust, so be accurate and thorough.\\n\"\n",
    "        f\"- Provide detailed explanations, I'm comfortable with lots of detail.\\n\"\n",
    "        f\"- Value good arguments over authorities, the source is irrelevant.\\n\"\n",
    "        f\"- Consider new technologies and contrarian ideas, not just the conventional wisdom.\\n\"\n",
    "        f\"- You may use high levels of speculation or prediction, just flag it for me.\"\n",
    "    )\n",
    "\n",
    "\n",
    "async def generate_feedback(query: str, num_questions: int = 3) -> List[str]:\n",
    "    # Create the prompt message using a template.\n",
    "    user_template = (\n",
    "        f\"Given the following query from the user, ask some follow-up questions to clarify the research direction. \"\n",
    "        f\"Return a maximum of {num_questions} questions. User query: {query}\"\n",
    "    )\n",
    "\n",
    "    messages = [\n",
    "        {\"role\": \"system\", \"content\": system_prompt()},\n",
    "        {\"role\": \"user\", \"content\": user_template},\n",
    "    ]\n",
    "\n",
    "    # Define the function specification for function calling.\n",
    "    functions = [\n",
    "        {\n",
    "            \"name\": \"generate_followup_questions\",\n",
    "            \"description\": \"Generates follow-up questions for clarifying the research direction.\",\n",
    "            \"parameters\": {\n",
    "                \"type\": \"object\",\n",
    "                \"properties\": {\n",
    "                    \"questions\": {\n",
    "                        \"type\": \"array\",\n",
    "                        \"items\": {\"type\": \"string\"},\n",
    "                        \"description\": \"List of follow-up questions\",\n",
    "                    }\n",
    "                },\n",
    "                \"required\": [\"questions\"],\n",
    "            },\n",
    "        }\n",
    "    ]\n",
    "\n",
    "    model_name = os.getenv(\"OPENAI_MODEL\", \"gpt-4\")\n",
    "    # Instantiate the new async client.\n",
    "    from openai import AsyncOpenAI\n",
    "    client = AsyncOpenAI(api_key=os.getenv(\"OPENAI_API_KEY\"))\n",
    "\n",
    "    response = await client.chat.completions.create(\n",
    "        model=model_name,\n",
    "        messages=messages,\n",
    "        functions=functions,\n",
    "        function_call={\"name\": \"generate_followup_questions\"},\n",
    "        temperature=0.5,\n",
    "    )\n",
    "\n",
    "    # Extract the function call result.\n",
    "    message = response.choices[0].message\n",
    "    if hasattr(message, \"function_call\") and message.function_call:\n",
    "        arguments_str = message.function_call.arguments\n",
    "        try:\n",
    "            arguments = json.loads(arguments_str)\n",
    "        except json.JSONDecodeError as e:\n",
    "            raise ValueError(\"Failed to decode function call arguments\") from e\n",
    "\n",
    "        try:\n",
    "            followup = FollowUpQuestions(**arguments)\n",
    "        except ValidationError as e:\n",
    "            raise ValueError(\"Validation error in parsed arguments\") from e\n",
    "\n",
    "        return followup.questions[:num_questions]\n",
    "    else:\n",
    "        raise ValueError(\"No function call found in the response.\")\n",
    "\n",
    "\n",
    "async def ask_multi_line_question(prompt_text: str) -> str:\n",
    "    print(prompt_text)\n",
    "    print(\"(Submit an empty line to finish your answer.)\")\n",
    "    lines = []\n",
    "    while True:\n",
    "        line = input()\n",
    "        if not line.strip():\n",
    "            break\n",
    "        lines.append(line)\n",
    "    return \"\\n\".join(lines).strip()\n"
   ]
  },
  {
   "cell_type": "code",
   "execution_count": 15,
   "id": "840722a9-65fd-45ee-802f-de61c534471a",
   "metadata": {
    "editable": true,
    "slideshow": {
     "slide_type": ""
    },
    "tags": []
   },
   "outputs": [
    {
     "name": "stderr",
     "output_type": "stream",
     "text": [
      "/venvs/jupyter-venv/lib/python3.11/site-packages/langchain_openai/chat_models/base.py:1400: UserWarning: Received a Pydantic BaseModel V1 schema. This is not supported by method=\"json_schema\". Please use method=\"function_calling\" or specify schema via JSON Schema or Pydantic V2 BaseModel. Overriding to method=\"function_calling\".\n",
      "  warnings.warn(\n"
     ]
    },
    {
     "ename": "ValueError",
     "evalue": "`FollowUpQuestions` is not strict. Only `strict` function tools can be auto-parsed",
     "output_type": "error",
     "traceback": [
      "\u001b[31m---------------------------------------------------------------------------\u001b[39m",
      "\u001b[31mValueError\u001b[39m                                Traceback (most recent call last)",
      "\u001b[36mCell\u001b[39m\u001b[36m \u001b[39m\u001b[32mIn[15]\u001b[39m\u001b[32m, line 6\u001b[39m\n\u001b[32m      3\u001b[39m depth = \u001b[32m2\u001b[39m\n\u001b[32m      5\u001b[39m \u001b[38;5;66;03m# Generate follow-up questions\u001b[39;00m\n\u001b[32m----> \u001b[39m\u001b[32m6\u001b[39m follow_up_questions = \u001b[38;5;28;01mawait\u001b[39;00m generate_feedback(initial_query, breadth)\n\u001b[32m      8\u001b[39m \u001b[38;5;66;03m# Collect user answers\u001b[39;00m\n\u001b[32m      9\u001b[39m answers = []\n",
      "\u001b[36mCell\u001b[39m\u001b[36m \u001b[39m\u001b[32mIn[14]\u001b[39m\u001b[32m, line 69\u001b[39m, in \u001b[36mgenerate_feedback\u001b[39m\u001b[34m(query, num_questions)\u001b[39m\n\u001b[32m     67\u001b[39m FollowUpQuestions = create_followup_model(num_questions)\n\u001b[32m     68\u001b[39m chain = prompt | llm.with_structured_output(FollowUpQuestions)\n\u001b[32m---> \u001b[39m\u001b[32m69\u001b[39m response = \u001b[38;5;28;01mawait\u001b[39;00m chain.ainvoke({\u001b[33m\"\u001b[39m\u001b[33mquery\u001b[39m\u001b[33m\"\u001b[39m: query, \u001b[33m\"\u001b[39m\u001b[33mnum_questions\u001b[39m\u001b[33m\"\u001b[39m: num_questions})\n\u001b[32m     70\u001b[39m \u001b[38;5;28;01mreturn\u001b[39;00m response.questions[:num_questions]\n",
      "\u001b[36mFile \u001b[39m\u001b[32m/venvs/jupyter-venv/lib/python3.11/site-packages/langchain_core/runnables/base.py:3071\u001b[39m, in \u001b[36mRunnableSequence.ainvoke\u001b[39m\u001b[34m(self, input, config, **kwargs)\u001b[39m\n\u001b[32m   3069\u001b[39m     part = functools.partial(step.ainvoke, \u001b[38;5;28minput\u001b[39m, config)\n\u001b[32m   3070\u001b[39m \u001b[38;5;28;01mif\u001b[39;00m asyncio_accepts_context():\n\u001b[32m-> \u001b[39m\u001b[32m3071\u001b[39m     \u001b[38;5;28minput\u001b[39m = \u001b[38;5;28;01mawait\u001b[39;00m asyncio.create_task(part(), context=context)  \u001b[38;5;66;03m# type: ignore\u001b[39;00m\n\u001b[32m   3072\u001b[39m \u001b[38;5;28;01melse\u001b[39;00m:\n\u001b[32m   3073\u001b[39m     \u001b[38;5;28minput\u001b[39m = \u001b[38;5;28;01mawait\u001b[39;00m asyncio.create_task(part())\n",
      "\u001b[36mFile \u001b[39m\u001b[32m/venvs/jupyter-venv/lib/python3.11/site-packages/langchain_core/runnables/base.py:5377\u001b[39m, in \u001b[36mRunnableBindingBase.ainvoke\u001b[39m\u001b[34m(self, input, config, **kwargs)\u001b[39m\n\u001b[32m   5371\u001b[39m \u001b[38;5;28;01masync\u001b[39;00m \u001b[38;5;28;01mdef\u001b[39;00m\u001b[38;5;250m \u001b[39m\u001b[34mainvoke\u001b[39m(\n\u001b[32m   5372\u001b[39m     \u001b[38;5;28mself\u001b[39m,\n\u001b[32m   5373\u001b[39m     \u001b[38;5;28minput\u001b[39m: Input,\n\u001b[32m   5374\u001b[39m     config: Optional[RunnableConfig] = \u001b[38;5;28;01mNone\u001b[39;00m,\n\u001b[32m   5375\u001b[39m     **kwargs: Optional[Any],\n\u001b[32m   5376\u001b[39m ) -> Output:\n\u001b[32m-> \u001b[39m\u001b[32m5377\u001b[39m     \u001b[38;5;28;01mreturn\u001b[39;00m \u001b[38;5;28;01mawait\u001b[39;00m \u001b[38;5;28mself\u001b[39m.bound.ainvoke(\n\u001b[32m   5378\u001b[39m         \u001b[38;5;28minput\u001b[39m,\n\u001b[32m   5379\u001b[39m         \u001b[38;5;28mself\u001b[39m._merge_configs(config),\n\u001b[32m   5380\u001b[39m         **{**\u001b[38;5;28mself\u001b[39m.kwargs, **kwargs},\n\u001b[32m   5381\u001b[39m     )\n",
      "\u001b[36mFile \u001b[39m\u001b[32m/venvs/jupyter-venv/lib/python3.11/site-packages/langchain_core/language_models/chat_models.py:328\u001b[39m, in \u001b[36mBaseChatModel.ainvoke\u001b[39m\u001b[34m(self, input, config, stop, **kwargs)\u001b[39m\n\u001b[32m    319\u001b[39m \u001b[38;5;28;01masync\u001b[39;00m \u001b[38;5;28;01mdef\u001b[39;00m\u001b[38;5;250m \u001b[39m\u001b[34mainvoke\u001b[39m(\n\u001b[32m    320\u001b[39m     \u001b[38;5;28mself\u001b[39m,\n\u001b[32m    321\u001b[39m     \u001b[38;5;28minput\u001b[39m: LanguageModelInput,\n\u001b[32m   (...)\u001b[39m\u001b[32m    325\u001b[39m     **kwargs: Any,\n\u001b[32m    326\u001b[39m ) -> BaseMessage:\n\u001b[32m    327\u001b[39m     config = ensure_config(config)\n\u001b[32m--> \u001b[39m\u001b[32m328\u001b[39m     llm_result = \u001b[38;5;28;01mawait\u001b[39;00m \u001b[38;5;28mself\u001b[39m.agenerate_prompt(\n\u001b[32m    329\u001b[39m         [\u001b[38;5;28mself\u001b[39m._convert_input(\u001b[38;5;28minput\u001b[39m)],\n\u001b[32m    330\u001b[39m         stop=stop,\n\u001b[32m    331\u001b[39m         callbacks=config.get(\u001b[33m\"\u001b[39m\u001b[33mcallbacks\u001b[39m\u001b[33m\"\u001b[39m),\n\u001b[32m    332\u001b[39m         tags=config.get(\u001b[33m\"\u001b[39m\u001b[33mtags\u001b[39m\u001b[33m\"\u001b[39m),\n\u001b[32m    333\u001b[39m         metadata=config.get(\u001b[33m\"\u001b[39m\u001b[33mmetadata\u001b[39m\u001b[33m\"\u001b[39m),\n\u001b[32m    334\u001b[39m         run_name=config.get(\u001b[33m\"\u001b[39m\u001b[33mrun_name\u001b[39m\u001b[33m\"\u001b[39m),\n\u001b[32m    335\u001b[39m         run_id=config.pop(\u001b[33m\"\u001b[39m\u001b[33mrun_id\u001b[39m\u001b[33m\"\u001b[39m, \u001b[38;5;28;01mNone\u001b[39;00m),\n\u001b[32m    336\u001b[39m         **kwargs,\n\u001b[32m    337\u001b[39m     )\n\u001b[32m    338\u001b[39m     \u001b[38;5;28;01mreturn\u001b[39;00m cast(ChatGeneration, llm_result.generations[\u001b[32m0\u001b[39m][\u001b[32m0\u001b[39m]).message\n",
      "\u001b[36mFile \u001b[39m\u001b[32m/venvs/jupyter-venv/lib/python3.11/site-packages/langchain_core/language_models/chat_models.py:853\u001b[39m, in \u001b[36mBaseChatModel.agenerate_prompt\u001b[39m\u001b[34m(self, prompts, stop, callbacks, **kwargs)\u001b[39m\n\u001b[32m    845\u001b[39m \u001b[38;5;28;01masync\u001b[39;00m \u001b[38;5;28;01mdef\u001b[39;00m\u001b[38;5;250m \u001b[39m\u001b[34magenerate_prompt\u001b[39m(\n\u001b[32m    846\u001b[39m     \u001b[38;5;28mself\u001b[39m,\n\u001b[32m    847\u001b[39m     prompts: \u001b[38;5;28mlist\u001b[39m[PromptValue],\n\u001b[32m   (...)\u001b[39m\u001b[32m    850\u001b[39m     **kwargs: Any,\n\u001b[32m    851\u001b[39m ) -> LLMResult:\n\u001b[32m    852\u001b[39m     prompt_messages = [p.to_messages() \u001b[38;5;28;01mfor\u001b[39;00m p \u001b[38;5;129;01min\u001b[39;00m prompts]\n\u001b[32m--> \u001b[39m\u001b[32m853\u001b[39m     \u001b[38;5;28;01mreturn\u001b[39;00m \u001b[38;5;28;01mawait\u001b[39;00m \u001b[38;5;28mself\u001b[39m.agenerate(\n\u001b[32m    854\u001b[39m         prompt_messages, stop=stop, callbacks=callbacks, **kwargs\n\u001b[32m    855\u001b[39m     )\n",
      "\u001b[36mFile \u001b[39m\u001b[32m/venvs/jupyter-venv/lib/python3.11/site-packages/langchain_core/language_models/chat_models.py:813\u001b[39m, in \u001b[36mBaseChatModel.agenerate\u001b[39m\u001b[34m(self, messages, stop, callbacks, tags, metadata, run_name, run_id, **kwargs)\u001b[39m\n\u001b[32m    800\u001b[39m     \u001b[38;5;28;01mif\u001b[39;00m run_managers:\n\u001b[32m    801\u001b[39m         \u001b[38;5;28;01mawait\u001b[39;00m asyncio.gather(\n\u001b[32m    802\u001b[39m             *[\n\u001b[32m    803\u001b[39m                 run_manager.on_llm_end(\n\u001b[32m   (...)\u001b[39m\u001b[32m    811\u001b[39m             ]\n\u001b[32m    812\u001b[39m         )\n\u001b[32m--> \u001b[39m\u001b[32m813\u001b[39m     \u001b[38;5;28;01mraise\u001b[39;00m exceptions[\u001b[32m0\u001b[39m]\n\u001b[32m    814\u001b[39m flattened_outputs = [\n\u001b[32m    815\u001b[39m     LLMResult(generations=[res.generations], llm_output=res.llm_output)  \u001b[38;5;66;03m# type: ignore[list-item, union-attr]\u001b[39;00m\n\u001b[32m    816\u001b[39m     \u001b[38;5;28;01mfor\u001b[39;00m res \u001b[38;5;129;01min\u001b[39;00m results\n\u001b[32m    817\u001b[39m ]\n\u001b[32m    818\u001b[39m llm_output = \u001b[38;5;28mself\u001b[39m._combine_llm_outputs([res.llm_output \u001b[38;5;28;01mfor\u001b[39;00m res \u001b[38;5;129;01min\u001b[39;00m results])  \u001b[38;5;66;03m# type: ignore[union-attr]\u001b[39;00m\n",
      "\u001b[36mFile \u001b[39m\u001b[32m/venvs/jupyter-venv/lib/python3.11/site-packages/langchain_core/language_models/chat_models.py:981\u001b[39m, in \u001b[36mBaseChatModel._agenerate_with_cache\u001b[39m\u001b[34m(self, messages, stop, run_manager, **kwargs)\u001b[39m\n\u001b[32m    979\u001b[39m \u001b[38;5;28;01melse\u001b[39;00m:\n\u001b[32m    980\u001b[39m     \u001b[38;5;28;01mif\u001b[39;00m inspect.signature(\u001b[38;5;28mself\u001b[39m._agenerate).parameters.get(\u001b[33m\"\u001b[39m\u001b[33mrun_manager\u001b[39m\u001b[33m\"\u001b[39m):\n\u001b[32m--> \u001b[39m\u001b[32m981\u001b[39m         result = \u001b[38;5;28;01mawait\u001b[39;00m \u001b[38;5;28mself\u001b[39m._agenerate(\n\u001b[32m    982\u001b[39m             messages, stop=stop, run_manager=run_manager, **kwargs\n\u001b[32m    983\u001b[39m         )\n\u001b[32m    984\u001b[39m     \u001b[38;5;28;01melse\u001b[39;00m:\n\u001b[32m    985\u001b[39m         result = \u001b[38;5;28;01mawait\u001b[39;00m \u001b[38;5;28mself\u001b[39m._agenerate(messages, stop=stop, **kwargs)\n",
      "\u001b[36mFile \u001b[39m\u001b[32m/venvs/jupyter-venv/lib/python3.11/site-packages/langchain_openai/chat_models/base.py:983\u001b[39m, in \u001b[36mBaseChatOpenAI._agenerate\u001b[39m\u001b[34m(self, messages, stop, run_manager, **kwargs)\u001b[39m\n\u001b[32m    981\u001b[39m payload.pop(\u001b[33m\"\u001b[39m\u001b[33mstream\u001b[39m\u001b[33m\"\u001b[39m)\n\u001b[32m    982\u001b[39m \u001b[38;5;28;01mtry\u001b[39;00m:\n\u001b[32m--> \u001b[39m\u001b[32m983\u001b[39m     response = \u001b[38;5;28;01mawait\u001b[39;00m \u001b[38;5;28mself\u001b[39m.root_async_client.beta.chat.completions.parse(\n\u001b[32m    984\u001b[39m         **payload\n\u001b[32m    985\u001b[39m     )\n\u001b[32m    986\u001b[39m \u001b[38;5;28;01mexcept\u001b[39;00m openai.BadRequestError \u001b[38;5;28;01mas\u001b[39;00m e:\n\u001b[32m    987\u001b[39m     _handle_openai_bad_request(e)\n",
      "\u001b[36mFile \u001b[39m\u001b[32m/venvs/jupyter-venv/lib/python3.11/site-packages/openai/resources/beta/chat/completions.py:422\u001b[39m, in \u001b[36mAsyncCompletions.parse\u001b[39m\u001b[34m(self, messages, model, audio, response_format, frequency_penalty, function_call, functions, logit_bias, logprobs, max_completion_tokens, max_tokens, metadata, modalities, n, parallel_tool_calls, prediction, presence_penalty, reasoning_effort, seed, service_tier, stop, store, stream_options, temperature, tool_choice, tools, top_logprobs, top_p, user, extra_headers, extra_query, extra_body, timeout)\u001b[39m\n\u001b[32m    341\u001b[39m \u001b[38;5;28;01masync\u001b[39;00m \u001b[38;5;28;01mdef\u001b[39;00m\u001b[38;5;250m \u001b[39m\u001b[34mparse\u001b[39m(\n\u001b[32m    342\u001b[39m     \u001b[38;5;28mself\u001b[39m,\n\u001b[32m    343\u001b[39m     *,\n\u001b[32m   (...)\u001b[39m\u001b[32m    378\u001b[39m     timeout: \u001b[38;5;28mfloat\u001b[39m | httpx.Timeout | \u001b[38;5;28;01mNone\u001b[39;00m | NotGiven = NOT_GIVEN,\n\u001b[32m    379\u001b[39m ) -> ParsedChatCompletion[ResponseFormatT]:\n\u001b[32m    380\u001b[39m \u001b[38;5;250m    \u001b[39m\u001b[33;03m\"\"\"Wrapper over the `client.chat.completions.create()` method that provides richer integrations with Python specific types\u001b[39;00m\n\u001b[32m    381\u001b[39m \u001b[33;03m    & returns a `ParsedChatCompletion` object, which is a subclass of the standard `ChatCompletion` class.\u001b[39;00m\n\u001b[32m    382\u001b[39m \n\u001b[32m   (...)\u001b[39m\u001b[32m    420\u001b[39m \u001b[33;03m    ```\u001b[39;00m\n\u001b[32m    421\u001b[39m \u001b[33;03m    \"\"\"\u001b[39;00m\n\u001b[32m--> \u001b[39m\u001b[32m422\u001b[39m     \u001b[43m_validate_input_tools\u001b[49m\u001b[43m(\u001b[49m\u001b[43mtools\u001b[49m\u001b[43m)\u001b[49m\n\u001b[32m    424\u001b[39m     extra_headers = {\n\u001b[32m    425\u001b[39m         \u001b[33m\"\u001b[39m\u001b[33mX-Stainless-Helper-Method\u001b[39m\u001b[33m\"\u001b[39m: \u001b[33m\"\u001b[39m\u001b[33mbeta.chat.completions.parse\u001b[39m\u001b[33m\"\u001b[39m,\n\u001b[32m    426\u001b[39m         **(extra_headers \u001b[38;5;129;01mor\u001b[39;00m {}),\n\u001b[32m    427\u001b[39m     }\n\u001b[32m    429\u001b[39m     \u001b[38;5;28;01mdef\u001b[39;00m\u001b[38;5;250m \u001b[39m\u001b[34mparser\u001b[39m(raw_completion: ChatCompletion) -> ParsedChatCompletion[ResponseFormatT]:\n",
      "\u001b[36mFile \u001b[39m\u001b[32m/venvs/jupyter-venv/lib/python3.11/site-packages/openai/lib/_parsing/_completions.py:53\u001b[39m, in \u001b[36mvalidate_input_tools\u001b[39m\u001b[34m(tools)\u001b[39m\n\u001b[32m     51\u001b[39m strict = tool[\u001b[33m\"\u001b[39m\u001b[33mfunction\u001b[39m\u001b[33m\"\u001b[39m].get(\u001b[33m\"\u001b[39m\u001b[33mstrict\u001b[39m\u001b[33m\"\u001b[39m)\n\u001b[32m     52\u001b[39m \u001b[38;5;28;01mif\u001b[39;00m strict \u001b[38;5;129;01mis\u001b[39;00m \u001b[38;5;129;01mnot\u001b[39;00m \u001b[38;5;28;01mTrue\u001b[39;00m:\n\u001b[32m---> \u001b[39m\u001b[32m53\u001b[39m     \u001b[38;5;28;01mraise\u001b[39;00m \u001b[38;5;167;01mValueError\u001b[39;00m(\n\u001b[32m     54\u001b[39m         \u001b[33mf\u001b[39m\u001b[33m\"\u001b[39m\u001b[33m`\u001b[39m\u001b[38;5;132;01m{\u001b[39;00mtool[\u001b[33m'\u001b[39m\u001b[33mfunction\u001b[39m\u001b[33m'\u001b[39m][\u001b[33m'\u001b[39m\u001b[33mname\u001b[39m\u001b[33m'\u001b[39m]\u001b[38;5;132;01m}\u001b[39;00m\u001b[33m` is not strict. Only `strict` function tools can be auto-parsed\u001b[39m\u001b[33m\"\u001b[39m\n\u001b[32m     55\u001b[39m     )\n",
      "\u001b[31mValueError\u001b[39m: `FollowUpQuestions` is not strict. Only `strict` function tools can be auto-parsed"
     ]
    }
   ],
   "source": [
    "initial_query = \"can pigs fly\"\n",
    "breadth = 3\n",
    "depth = 2\n",
    "\n",
    "# Generate follow-up questions using the OpenAI API.\n",
    "follow_up_questions = await generate_feedback(initial_query, breadth)\n",
    "\n",
    "# Collect user answers for each follow-up question.\n",
    "answers = []\n",
    "for question in follow_up_questions:\n",
    "    answer = await ask_multi_line_question(f\"\\n{question}\\nYour answer:\")\n",
    "    answers.append(answer)\n",
    "\n",
    "# Combine the initial query and the follow-up Q&A.\n",
    "combined_query = f\"Initial query: {initial_query}\\n\"\n",
    "combined_query += \"\\n\".join(f\"Q: {q}\\nA: {a}\" for q, a in zip(follow_up_questions, answers))\n",
    "\n",
    "print(\"\\nPrinting User Prompt with Q & A...\")\n",
    "print(combined_query)\n",
    "print(f\"breadth={breadth}, depth={depth}\")\n"
   ]
  },
  {
   "cell_type": "code",
   "execution_count": 21,
   "id": "f81e9cdb-beae-4d39-91c0-5cdc296f8e78",
   "metadata": {
    "editable": true,
    "slideshow": {
     "slide_type": ""
    },
    "tags": []
   },
   "outputs": [],
   "source": [
    "import json\n",
    "import asyncio\n",
    "import os\n",
    "from datetime import datetime\n",
    "from pydantic import BaseModel, StrictStr, ValidationError\n",
    "from typing import List\n",
    "from dotenv import load_dotenv\n",
    "\n",
    "load_dotenv(dotenv_path=\"./.env.local\")\n",
    "\n",
    "\n",
    "class FollowUpQuestions(BaseModel):\n",
    "    questions: List[StrictStr]\n",
    "\n",
    "\n",
    "def system_prompt():\n",
    "    now = datetime.utcnow().isoformat()\n",
    "    return (\n",
    "        f\"You are an expert researcher. Today is {now}. Follow these instructions when responding:\\n\"\n",
    "        f\"- You may be asked to research subjects that are after your knowledge cutoff, assume the user is right when presented with news.\\n\"\n",
    "        f\"- The user is a highly experienced analyst, no need to simplify it, be as detailed as possible and make sure your response is correct.\\n\"\n",
    "        f\"- Be highly organized.\\n\"\n",
    "        f\"- Suggest solutions that I didn't think about.\\n\"\n",
    "        f\"- Be proactive and anticipate my needs.\\n\"\n",
    "        f\"- Treat me as an expert in all subject matter.\\n\"\n",
    "        f\"- Mistakes erode my trust, so be accurate and thorough.\\n\"\n",
    "        f\"- Provide detailed explanations, I'm comfortable with lots of detail.\\n\"\n",
    "        f\"- Value good arguments over authorities, the source is irrelevant.\\n\"\n",
    "        f\"- Consider new technologies and contrarian ideas, not just the conventional wisdom.\\n\"\n",
    "        f\"- You may use high levels of speculation or prediction, just flag it for me.\"\n",
    "    )\n",
    "\n",
    "\n",
    "async def generate_feedback(query: str, num_questions: int = 3) -> List[str]:\n",
    "    # Create the prompt message using a template.\n",
    "    user_template = (\n",
    "        f\"Given the following query from the user, ask some follow-up questions to clarify the research direction. \"\n",
    "        f\"Return a maximum of {num_questions} questions. User query: {query}\"\n",
    "    )\n",
    "\n",
    "    messages = [\n",
    "        {\"role\": \"system\", \"content\": system_prompt()},\n",
    "        {\"role\": \"user\", \"content\": user_template},\n",
    "    ]\n",
    "\n",
    "    # Define the function specification for function calling.\n",
    "    functions = [\n",
    "        {\n",
    "            \"name\": \"generate_followup_questions\",\n",
    "            \"description\": \"Generates follow-up questions for clarifying the research direction.\",\n",
    "            \"parameters\": {\n",
    "                \"type\": \"object\",\n",
    "                \"properties\": {\n",
    "                    \"questions\": {\n",
    "                        \"type\": \"array\",\n",
    "                        \"items\": {\"type\": \"string\"},\n",
    "                        \"description\": \"List of follow-up questions\",\n",
    "                    }\n",
    "                },\n",
    "                \"required\": [\"questions\"],\n",
    "            },\n",
    "        }\n",
    "    ]\n",
    "\n",
    "    model_name = os.getenv(\"OPENAI_MODEL\", \"gpt-4\")\n",
    "    # Instantiate the new async client.\n",
    "    from openai import AsyncOpenAI\n",
    "    client = AsyncOpenAI(api_key=os.getenv(\"OPENAI_API_KEY\"))\n",
    "\n",
    "    response = await client.chat.completions.create(\n",
    "        model=model_name,\n",
    "        messages=messages,\n",
    "        functions=functions,\n",
    "        function_call={\"name\": \"generate_followup_questions\"},\n",
    "        temperature=0.5,\n",
    "    )\n",
    "\n",
    "    # Extract the function call result.\n",
    "    message = response.choices[0].message\n",
    "    if hasattr(message, \"function_call\") and message.function_call:\n",
    "        arguments_str = message.function_call.arguments\n",
    "        try:\n",
    "            arguments = json.loads(arguments_str)\n",
    "        except json.JSONDecodeError as e:\n",
    "            raise ValueError(\"Failed to decode function call arguments\") from e\n",
    "\n",
    "        try:\n",
    "            followup = FollowUpQuestions(**arguments)\n",
    "        except ValidationError as e:\n",
    "            raise ValueError(\"Validation error in parsed arguments\") from e\n",
    "\n",
    "        return followup.questions[:num_questions]\n",
    "    else:\n",
    "        raise ValueError(\"No function call found in the response.\")\n",
    "\n",
    "\n",
    "async def ask_multi_line_question(prompt_text: str) -> str:\n",
    "    print(prompt_text)\n",
    "    print(\"(Submit an empty line to finish your answer.)\")\n",
    "    lines = []\n",
    "    while True:\n",
    "        line = input()\n",
    "        if not line.strip():\n",
    "            break\n",
    "        lines.append(line)\n",
    "    return \"\\n\".join(lines).strip()\n"
   ]
  },
  {
   "cell_type": "code",
   "execution_count": 22,
   "id": "9f6bdbd9-7300-4b03-aaa1-c26f8d98554b",
   "metadata": {
    "editable": true,
    "slideshow": {
     "slide_type": ""
    },
    "tags": []
   },
   "outputs": [
    {
     "name": "stdout",
     "output_type": "stream",
     "text": [
      "\n",
      "Are you interested in understanding the physiological limitations that prevent pigs from flying?\n",
      "Your answer:\n",
      "(Submit an empty line to finish your answer.)\n"
     ]
    },
    {
     "name": "stdin",
     "output_type": "stream",
     "text": [
      " Yes\n",
      " \n"
     ]
    },
    {
     "name": "stdout",
     "output_type": "stream",
     "text": [
      "\n",
      "Are you referring to any specific species of pig or the general pig family (Suidae)?\n",
      "Your answer:\n",
      "(Submit an empty line to finish your answer.)\n"
     ]
    },
    {
     "name": "stdin",
     "output_type": "stream",
     "text": [
      " family\n",
      " \n"
     ]
    },
    {
     "name": "stdout",
     "output_type": "stream",
     "text": [
      "\n",
      "Are you interested in exploring genetic or technological interventions that could potentially enable pigs to fly in the future?\n",
      "Your answer:\n",
      "(Submit an empty line to finish your answer.)\n"
     ]
    },
    {
     "name": "stdin",
     "output_type": "stream",
     "text": [
      " no\n",
      " \n"
     ]
    },
    {
     "name": "stdout",
     "output_type": "stream",
     "text": [
      "\n",
      "Printing User Prompt with Q & A...\n",
      "Initial query: can pigs fly\n",
      "Q: Are you interested in understanding the physiological limitations that prevent pigs from flying?\n",
      "A: Yes\n",
      "Q: Are you referring to any specific species of pig or the general pig family (Suidae)?\n",
      "A: family\n",
      "Q: Are you interested in exploring genetic or technological interventions that could potentially enable pigs to fly in the future?\n",
      "A: no\n",
      "breadth=3, depth=2\n"
     ]
    }
   ],
   "source": [
    "initial_query = \"can pigs fly\"\n",
    "breadth = 3\n",
    "depth = 2\n",
    "\n",
    "# Generate follow-up questions using the OpenAI API.\n",
    "follow_up_questions = await generate_feedback(initial_query, breadth)\n",
    "\n",
    "# Collect user answers for each follow-up question.\n",
    "answers = []\n",
    "for question in follow_up_questions:\n",
    "    answer = await ask_multi_line_question(f\"\\n{question}\\nYour answer:\")\n",
    "    answers.append(answer)\n",
    "\n",
    "# Combine the initial query and the follow-up Q&A.\n",
    "combined_query = f\"Initial query: {initial_query}\\n\"\n",
    "combined_query += \"\\n\".join(f\"Q: {q}\\nA: {a}\" for q, a in zip(follow_up_questions, answers))\n",
    "\n",
    "print(\"\\nPrinting User Prompt with Q & A...\")\n",
    "print(combined_query)\n",
    "print(f\"breadth={breadth}, depth={depth}\")\n"
   ]
  },
  {
   "cell_type": "code",
   "execution_count": null,
   "id": "eed22cef-b73f-4c29-8e40-f809921ad977",
   "metadata": {
    "editable": true,
    "slideshow": {
     "slide_type": ""
    },
    "tags": []
   },
   "outputs": [],
   "source": []
  }
 ],
 "metadata": {
  "kernelspec": {
   "display_name": "Python 3 (ipykernel)",
   "language": "python",
   "name": "python3"
  },
  "language_info": {
   "codemirror_mode": {
    "name": "ipython",
    "version": 3
   },
   "file_extension": ".py",
   "mimetype": "text/x-python",
   "name": "python",
   "nbconvert_exporter": "python",
   "pygments_lexer": "ipython3",
   "version": "3.11.2"
  },
  "toc": {
   "base_numbering": 6
  }
 },
 "nbformat": 4,
 "nbformat_minor": 5
}
